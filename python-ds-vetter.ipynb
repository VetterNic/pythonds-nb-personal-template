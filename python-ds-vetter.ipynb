{
 "cells": [
  {
   "cell_type": "markdown",
   "metadata": {},
   "source": [
    "# Web Mining and Applied NLP (44-620)\n",
    "\n",
    "## Python Notebooks, Basics, and Data Structures\n",
    "\n",
    "### Student Name: Nic Vetter - GitHub repo link: https://github.com/VetterNic/pythonds-nb-personal-template\n",
    "\n",
    "Perform the tasks described in the Markdown cells below.  When you have completed the assignment make sure your code cells have all been run (and have output beneath them) and ensure you have committed and pushed ALL of your changes to your assignment repository.\n",
    "\n",
    "Every question that requires you to write code will have a code cell underneath it; you may either write your entire solution in that cell or write it in a python file (`.py`), then import and run the appropriate code to answer the question.\n",
    "\n",
    "Do not use external modules (`math`, etc) for this assignment unless you are explicitly instructed to, though you may use built in python functions (`min`, `max`, etc) as you wish."
   ]
  },
  {
   "cell_type": "markdown",
   "metadata": {},
   "source": [
    "1. Modify the Markdown cell above to put your name after \"Student Name:\"; you will be expected to do this in all assignments presented in this format for this class."
   ]
  },
  {
   "cell_type": "markdown",
   "metadata": {},
   "source": [
    "2. Write code that divides any two numbers, stores the result in a variable, and prints the result with an appropriate label."
   ]
  },
  {
   "cell_type": "code",
   "execution_count": 1,
   "metadata": {},
   "outputs": [
    {
     "name": "stdout",
     "output_type": "stream",
     "text": [
      "The answer to dividing 95 by 10 is: 9.5\n"
     ]
    }
   ],
   "source": [
    "top_numerator = 95\n",
    "bottom_denominator = 10\n",
    "result = top_numerator/bottom_denominator\n",
    "print(\"The answer to dividing\", top_numerator, \"by\", bottom_denominator, \"is:\", result)"
   ]
  },
  {
   "cell_type": "markdown",
   "metadata": {},
   "source": [
    "3. Using loops (and potentially conditionals), write Python code that prints the factorial of each integer from 1 through 10 (which you can store in a variable if you want). The factorial of an integer is the product of all of the integers of 1 through the number. Print the result with an appropriate label."
   ]
  },
  {
   "cell_type": "code",
   "execution_count": 2,
   "metadata": {},
   "outputs": [
    {
     "name": "stdout",
     "output_type": "stream",
     "text": [
      "The initial factorial of 1 results with: 3\n",
      "The initial factorial of 2 results with: 6\n",
      "The initial factorial of 3 results with: 18\n",
      "The initial factorial of 4 results with: 72\n",
      "The initial factorial of 5 results with: 360\n",
      "The initial factorial of 6 results with: 2160\n",
      "The initial factorial of 7 results with: 15120\n",
      "The initial factorial of 8 results with: 120960\n",
      "The initial factorial of 9 results with: 1088640\n",
      "The initial factorial of 10 results with: 10886400\n"
     ]
    }
   ],
   "source": [
    "factorial = 3\n",
    "\n",
    "for i in range(1, 11):\n",
    "    \n",
    "    factorial *= i\n",
    "    \n",
    "    print(\"The initial factorial of\", i, \"results with:\", factorial)\n"
   ]
  },
  {
   "cell_type": "markdown",
   "metadata": {},
   "source": [
    "4. Write a python function that takes a single parameter and calculates and returns the average (mean) of the values in the parameter (which you may assume is iterable).  Show that your function works by printing the result of calling the function on the list in the cell below."
   ]
  },
  {
   "cell_type": "code",
   "execution_count": 3,
   "metadata": {},
   "outputs": [
    {
     "name": "stdout",
     "output_type": "stream",
     "text": [
      "Mean of values from testlist: 0.0\n"
     ]
    }
   ],
   "source": [
    "def calc_average(values):\n",
    "    if not values:\n",
    "        return None\n",
    "    total_values = sum(values)\n",
    "    count = len(values)\n",
    "    average = total_values/count\n",
    "    return average\n",
    "\n",
    "testlist = [1,-1,2,-2,3,-3,4,-4]\n",
    "result = calc_average(testlist)\n",
    "print(\"Mean of values from testlist:\", result)"
   ]
  },
  {
   "cell_type": "markdown",
   "metadata": {},
   "source": [
    "5. Using your mean function above, write a function that calculates the variance of the list of numbers (see https://en.wikipedia.org/wiki/Variance for more information on the formula). In short:\n",
    "* subtract the mean of the elements in the list from every element in the list; store these values in a new list\n",
    "* square every element in the new list and sum the elements together\n",
    "* divide the resulting number by N (where N is the length of the original list)\n",
    "\n",
    "Show the result of calling your function in the lists in the code cell. You must use one or more list comprehensions or map/filter in your code.\n"
   ]
  },
  {
   "cell_type": "code",
   "execution_count": 4,
   "metadata": {},
   "outputs": [
    {
     "name": "stdout",
     "output_type": "stream",
     "text": [
      "The variances of both lists are relatively close to 1 (off by less than 0.15).\n"
     ]
    }
   ],
   "source": [
    "def calc_variance(values):\n",
    "    if not values:\n",
    "        return None\n",
    "    mean = sum(values) / len(values)\n",
    "    squared_diff = [(x - mean) ** 2 for x in values]\n",
    "    variance = sum(squared_diff) / len(values)\n",
    "    \n",
    "    return variance\n",
    "\n",
    "list1 = [ 5.670e-1, -1.480e+0, -5.570e-1, -1.470e+0, 7.340e-1, 1.050e+0, 4.480e-1, 2.570e-1, -1.970e+0, -1.460e+0]\n",
    "list2 = [-1.780e+0, 2.640e-1, 1.160e+0, 9.080e-1, 1.780e+0, 1.080e+0, 1.050e+0, -4.630e-2, 1.520e+0, 5.350e-1]\n",
    "# the variances of both lists should be relatively close to 1 (off by less than .15)\n",
    "variance_list1 = calc_variance(list1)\n",
    "variance_list2 = calc_variance(list2)\n",
    "\n",
    "# Check if the variances are close to 1\n",
    "tolerance = 0.15\n",
    "if abs(variance_list1 - 1) < tolerance and abs(variance_list2 - 1) < tolerance:\n",
    "    print(\"The variances of both lists are relatively close to 1 (off by less than 0.15).\")\n",
    "else:\n",
    "    print(\"The variances of both lists are not relatively close to 1.\")"
   ]
  },
  {
   "cell_type": "markdown",
   "metadata": {},
   "source": [
    "6. Create a list with at least 15 elements in it. Use list slicing to print the following:\n",
    "* The first 5 elements of the list\n",
    "* The last 5 elements of the list\n",
    "* The list reversed (hint, show the entire list with a stride of -1)\n",
    "* Every second element in the list\n",
    "* Every third element in the list (stride of 3)"
   ]
  },
  {
   "cell_type": "code",
   "execution_count": 5,
   "metadata": {},
   "outputs": [
    {
     "name": "stdout",
     "output_type": "stream",
     "text": [
      "First five elements: [10, 20, 30, 40, 50]\n",
      "Last five elements: [110, 120, 130, 140, 150]\n",
      "Reversed List: [150, 140, 130, 120, 110, 100, 90, 80, 70, 60, 50, 40, 30, 20, 10]\n",
      "Every second element: [10, 30, 50, 70, 90, 110, 130, 150]\n",
      "Every third element: [10, 40, 70, 100, 130]\n"
     ]
    }
   ],
   "source": [
    "Nic_list = [10, 20, 30, 40, 50, 60, 70, 80, 90, 100, 110, 120, 130, 140, 150]\n",
    "print(\"First five elements:\", Nic_list[:5])\n",
    "print(\"Last five elements:\", Nic_list[-5:])\n",
    "print(\"Reversed List:\", Nic_list[::-1])\n",
    "print(\"Every second element:\", Nic_list[::2])\n",
    "print(\"Every third element:\", Nic_list[::3])"
   ]
  },
  {
   "cell_type": "markdown",
   "metadata": {},
   "source": [
    "7. Build a dictionary that contains the following information about this class (with appropriate names as keys):\n",
    "* The name\n",
    "* The course number\n",
    "* The semester/term in which you are taking this course\n",
    "* The number of credit hours this course counts for\n",
    "* A list of the course learning objectives\n",
    "\n",
    "The majority of this information can be found in the syllabus. Print the dictionary."
   ]
  },
  {
   "cell_type": "code",
   "execution_count": 6,
   "metadata": {},
   "outputs": [
    {
     "name": "stdout",
     "output_type": "stream",
     "text": [
      "{'course_name': 'Web Mining and Applied NLP', 'course_number': 44620, 'term': 'Spring OP2 2024', 'credit_hours': 3, 'learning_obj': ['Manage Python libraries and packages', 'Interact with Hosted Version Control Systems Programmatically obtain and transform data from web-based APIs and HTML pages into a usable form', 'Describe the steps in a basic Natural Language Processing Pipeline', 'Use preexisting tools and software libraries to perform some Natural Language Processing, such as sentiment analysis', 'Explain results and conclusions drawn from the visualized information']}\n"
     ]
    }
   ],
   "source": [
    "mining_dict = {'course_name': 'Web Mining and Applied NLP',\n",
    "               'course_number': 44620,\n",
    "               'term': 'Spring OP2 2024',\n",
    "               'credit_hours': 3, \n",
    "               'learning_obj': ['Manage Python libraries and packages', 'Interact with Hosted Version Control Systems'\n",
    "               ' Programmatically obtain and transform data from web-based APIs and HTML pages into a usable form',\n",
    "               'Describe the steps in a basic Natural Language Processing Pipeline', \n",
    "               'Use preexisting tools and software libraries to perform some Natural Language Processing, such as sentiment analysis', \n",
    "               'Explain results and conclusions drawn from the visualized information']}\n",
    "print(mining_dict)\n",
    "               "
   ]
  },
  {
   "cell_type": "markdown",
   "metadata": {},
   "source": [
    "8.  Given the dictionary defined in the code cell below, print the list of level 3 spells the character has."
   ]
  },
  {
   "cell_type": "code",
   "execution_count": 7,
   "metadata": {},
   "outputs": [
    {
     "name": "stdout",
     "output_type": "stream",
     "text": [
      "Level 3 spells: ['Mass Healing Word', 'Nondetection', 'Revivify', 'Feign Death', 'Speak with Dead']\n"
     ]
    }
   ],
   "source": [
    "player_character = {'name': 'Kitab',\n",
    "                   'class': [('Cleric: Knowledge', 7)],\n",
    "                   'spells': {'cantrip': ['Guidance', 'Light', 'Thaumaturgy', 'Toll the Dead', 'Word of Radiance'],\n",
    "                             'level 1': ['Command', 'Detect Magic', 'Healing Word', 'Identify', 'Sleep'],\n",
    "                             'level 2': ['Augury', 'Calm Emotions', 'Command', 'Invisibility', 'Lesser Restoration'],\n",
    "                             'level 3': ['Mass Healing Word', 'Nondetection', 'Revivify', 'Feign Death', 'Speak with Dead'],\n",
    "                             'level 4': ['Banishment', 'Confusion']}\n",
    "                   }\n",
    "print(\"Level 3 spells:\", player_character['spells']['level 3'])"
   ]
  },
  {
   "cell_type": "markdown",
   "metadata": {},
   "source": [
    "9. Write code to determine the number of unique elements in the list below.  You MUST use a set in finding your solution.  Print the number of unique values in the list with an appropriate label."
   ]
  },
  {
   "cell_type": "code",
   "execution_count": 8,
   "metadata": {},
   "outputs": [
    {
     "name": "stdout",
     "output_type": "stream",
     "text": [
      "Count of unique values in list: 12\n"
     ]
    }
   ],
   "source": [
    "values = [10, 11, 10, 8, 1, 12, 0, 1, 6, 5, 5, 13, 6, 15, 0, 0, 1, 1, 9, 7]\n",
    "\n",
    "unique_values = set(values)\n",
    "\n",
    "count_unique_values = len(unique_values)\n",
    "\n",
    "print(\"Count of unique values in list:\", count_unique_values)"
   ]
  },
  {
   "cell_type": "markdown",
   "metadata": {},
   "source": [
    "10. Create a new Jupyter Notebook (the name of the notebook should be your S number). Add a Markdown cell that contains your name. Add a Code cell and write Python that uses loops to draw the following pattern:\n",
    "\n",
    "```\n",
    "*      *\n",
    "**    **\n",
    "***  ***\n",
    "********\n",
    "```\n",
    "Make sure to add and submit both the new notebook and the changes to this notebook for this assignment."
   ]
  },
  {
   "cell_type": "code",
   "execution_count": null,
   "metadata": {},
   "outputs": [],
   "source": []
  }
 ],
 "metadata": {
  "kernelspec": {
   "display_name": "Python 3 (ipykernel)",
   "language": "python",
   "name": "python3"
  },
  "language_info": {
   "codemirror_mode": {
    "name": "ipython",
    "version": 3
   },
   "file_extension": ".py",
   "mimetype": "text/x-python",
   "name": "python",
   "nbconvert_exporter": "python",
   "pygments_lexer": "ipython3",
   "version": "3.11.4"
  }
 },
 "nbformat": 4,
 "nbformat_minor": 4
}
