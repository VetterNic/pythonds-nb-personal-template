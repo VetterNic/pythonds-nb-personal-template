{
 "cells": [
  {
   "cell_type": "markdown",
   "id": "ecd8903a-bb34-4442-94c1-7f973886040c",
   "metadata": {},
   "source": [
    "# Nic Vetter"
   ]
  },
  {
   "cell_type": "code",
   "execution_count": 1,
   "id": "b46fc16a-2716-4e98-9eef-fad12a5f54bf",
   "metadata": {},
   "outputs": [
    {
     "name": "stdout",
     "output_type": "stream",
     "text": [
      "*      *\n",
      "**    **\n",
      "***  ***\n",
      "********\n"
     ]
    }
   ],
   "source": [
    "num_rows = 4\n",
    "\n",
    "for i in range(num_rows):\n",
    "    for n in range(i + 1):\n",
    "        print(\"*\", end=\"\")\n",
    "    for b in range(2 * (num_rows - i - 1)):\n",
    "        print(\" \", end=\"\")\n",
    "    for v in range(i + 1):\n",
    "        print(\"*\", end=\"\")\n",
    "\n",
    "    print()\n"
   ]
  }
 ],
 "metadata": {
  "kernelspec": {
   "display_name": "Python 3 (ipykernel)",
   "language": "python",
   "name": "python3"
  },
  "language_info": {
   "codemirror_mode": {
    "name": "ipython",
    "version": 3
   },
   "file_extension": ".py",
   "mimetype": "text/x-python",
   "name": "python",
   "nbconvert_exporter": "python",
   "pygments_lexer": "ipython3",
   "version": "3.11.4"
  }
 },
 "nbformat": 4,
 "nbformat_minor": 5
}
